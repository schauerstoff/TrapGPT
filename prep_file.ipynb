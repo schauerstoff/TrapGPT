{
 "cells": [
  {
   "cell_type": "markdown",
   "id": "f35292e3",
   "metadata": {},
   "source": [
    "# count token"
   ]
  },
  {
   "cell_type": "code",
   "execution_count": null,
   "id": "c271c3e3",
   "metadata": {},
   "outputs": [],
   "source": []
  },
  {
   "cell_type": "markdown",
   "id": "e01b2718",
   "metadata": {},
   "source": [
    "# convert csv"
   ]
  },
  {
   "cell_type": "code",
   "execution_count": 2,
   "id": "19ce9866",
   "metadata": {},
   "outputs": [
    {
     "name": "stdout",
     "output_type": "stream",
     "text": [
      "✅ Datei wurde konvertiert: trapGPTdata_prepro.csv\n"
     ]
    }
   ],
   "source": [
    "import csv\n",
    "\n",
    "# Dateinamen anpassen\n",
    "input_file = 'trapGPTdata.csv'\n",
    "output_file = 'trapGPTdata_prepro.csv'\n",
    "\n",
    "with open(input_file, 'r', encoding='utf-8') as infile, \\\n",
    "     open(output_file, 'w', newline='', encoding='utf-8') as outfile:\n",
    "\n",
    "    reader = csv.reader(infile, delimiter=';')\n",
    "    writer = csv.writer(outfile, delimiter=',')\n",
    "\n",
    "    for row in reader:\n",
    "        writer.writerow(row)\n",
    "\n",
    "print(f\"✅ Datei wurde konvertiert: {output_file}\")"
   ]
  }
 ],
 "metadata": {
  "kernelspec": {
   "display_name": "venv",
   "language": "python",
   "name": "python3"
  },
  "language_info": {
   "codemirror_mode": {
    "name": "ipython",
    "version": 3
   },
   "file_extension": ".py",
   "mimetype": "text/x-python",
   "name": "python",
   "nbconvert_exporter": "python",
   "pygments_lexer": "ipython3",
   "version": "3.10.16"
  }
 },
 "nbformat": 4,
 "nbformat_minor": 5
}
